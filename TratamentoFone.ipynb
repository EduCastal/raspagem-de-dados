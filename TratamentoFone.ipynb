{
 "cells": [
  {
   "cell_type": "code",
   "execution_count": 10,
   "id": "962a757f",
   "metadata": {},
   "outputs": [
    {
     "name": "stdout",
     "output_type": "stream",
     "text": [
      "                                          desc_produto      valor\n",
      "0    Fone De Ouvido Headset Gamer Jbl Quantum 50, I...  R$ 119,00\n",
      "1    Fone de Ouvido Gamer JBL Quantum 50N, Azul e V...  R$ 126,99\n",
      "2    Fone de Ouvido Gamer Intra Auricular Trust GXT...  R$ 109,99\n",
      "3    Fone De Ouvido Gamer Hyperx Cloud Earbuds Ii C...  R$ 302,50\n",
      "4    Fone de Ouvido Gamer True Wireless Logitech G ...  R$ 799,99\n",
      "..                                                 ...        ...\n",
      "107  Fones De Ouvido Gamer, Bluetooth, Sem Fio, Ios...   R$ 77,66\n",
      "108       Fone De Ouvido Gamer Com Fio Lehmox Ley-2264  R$ 156,66\n",
      "109  Headfone Fone Igoodlo Gamer X8 Com LED Celular...  R$ 129,00\n",
      "110  Fone De Ouvido C/ Microfone Gamer Com Fio P3 3...   R$ 99,90\n",
      "111  Fone De Ouvido C/ Microfone Headset Gamer Com ...   R$ 94,91\n",
      "\n",
      "[112 rows x 2 columns]\n"
     ]
    }
   ],
   "source": [
    "import pandas as pd\n",
    "\n",
    "df = pd.read_excel('fones.xlsx')\n",
    "print(df)"
   ]
  },
  {
   "cell_type": "code",
   "execution_count": 11,
   "id": "3f65e533",
   "metadata": {},
   "outputs": [
    {
     "data": {
      "text/html": [
       "<div>\n",
       "<style scoped>\n",
       "    .dataframe tbody tr th:only-of-type {\n",
       "        vertical-align: middle;\n",
       "    }\n",
       "\n",
       "    .dataframe tbody tr th {\n",
       "        vertical-align: top;\n",
       "    }\n",
       "\n",
       "    .dataframe thead th {\n",
       "        text-align: right;\n",
       "    }\n",
       "</style>\n",
       "<table border=\"1\" class=\"dataframe\">\n",
       "  <thead>\n",
       "    <tr style=\"text-align: right;\">\n",
       "      <th></th>\n",
       "      <th>desc_produto</th>\n",
       "      <th>tipo_fone</th>\n",
       "      <th>marca</th>\n",
       "      <th>valor</th>\n",
       "    </tr>\n",
       "  </thead>\n",
       "  <tbody>\n",
       "    <tr>\n",
       "      <th>0</th>\n",
       "      <td>Fone De Ouvido Headset Gamer Jbl Quantum 50, I...</td>\n",
       "      <td>desconhecido</td>\n",
       "      <td>jbl</td>\n",
       "      <td>R$ 119,00</td>\n",
       "    </tr>\n",
       "    <tr>\n",
       "      <th>1</th>\n",
       "      <td>Fone de Ouvido Gamer JBL Quantum 50N, Azul e V...</td>\n",
       "      <td>desconhecido</td>\n",
       "      <td>jbl</td>\n",
       "      <td>R$ 126,99</td>\n",
       "    </tr>\n",
       "    <tr>\n",
       "      <th>2</th>\n",
       "      <td>Fone de Ouvido Gamer Intra Auricular Trust GXT...</td>\n",
       "      <td>desconhecido</td>\n",
       "      <td>intra</td>\n",
       "      <td>R$ 109,99</td>\n",
       "    </tr>\n",
       "    <tr>\n",
       "      <th>3</th>\n",
       "      <td>Fone De Ouvido Gamer Hyperx Cloud Earbuds Ii C...</td>\n",
       "      <td>desconhecido</td>\n",
       "      <td>hyperx</td>\n",
       "      <td>R$ 302,50</td>\n",
       "    </tr>\n",
       "    <tr>\n",
       "      <th>4</th>\n",
       "      <td>Fone de Ouvido Gamer True Wireless Logitech G ...</td>\n",
       "      <td>bluetooth</td>\n",
       "      <td>logitech</td>\n",
       "      <td>R$ 799,99</td>\n",
       "    </tr>\n",
       "  </tbody>\n",
       "</table>\n",
       "</div>"
      ],
      "text/plain": [
       "                                        desc_produto     tipo_fone     marca  \\\n",
       "0  Fone De Ouvido Headset Gamer Jbl Quantum 50, I...  desconhecido       jbl   \n",
       "1  Fone de Ouvido Gamer JBL Quantum 50N, Azul e V...  desconhecido       jbl   \n",
       "2  Fone de Ouvido Gamer Intra Auricular Trust GXT...  desconhecido     intra   \n",
       "3  Fone De Ouvido Gamer Hyperx Cloud Earbuds Ii C...  desconhecido    hyperx   \n",
       "4  Fone de Ouvido Gamer True Wireless Logitech G ...     bluetooth  logitech   \n",
       "\n",
       "       valor  \n",
       "0  R$ 119,00  \n",
       "1  R$ 126,99  \n",
       "2  R$ 109,99  \n",
       "3  R$ 302,50  \n",
       "4  R$ 799,99  "
      ]
     },
     "execution_count": 11,
     "metadata": {},
     "output_type": "execute_result"
    }
   ],
   "source": [
    "# Criar uma coluna no df considerando se o produto é com ou sem fio (bluetooh)\n",
    "tipo = ['com fio', 'sem fio', 'bluetooth', 'wireless']\n",
    "\n",
    "def tipo_fone(texto):\n",
    "    texto = texto.lower()\n",
    "    for i in tipo:\n",
    "        if i in texto:\n",
    "            return i\n",
    "    return \"desconhecido\"\n",
    "\n",
    "df['tipo_fone'] = df['desc_produto'].apply(tipo_fone)\n",
    "\n",
    "# Criar uma coluna no df considerando a marca do produto\n",
    "marca = ['jbl', 'intra', 'hyperx', 'samsung', 'logitech', 'lenovo', 'dell', 'redragon', 'havit',\n",
    "         'edifier', 'altomex', 'tws', 'cougar', 'motorola', 'panasonic']\n",
    "\n",
    "def extrair_marca(texto):\n",
    "    texto = texto.lower()\n",
    "    for i in marca:\n",
    "        if i in texto:\n",
    "            return i\n",
    "    return \"desconhecido\"\n",
    "\n",
    "df['marca'] = df['desc_produto'].apply(extrair_marca)\n",
    "\n",
    "df[['desc_produto', 'tipo_fone', 'marca', 'valor']].head()\n"
   ]
  },
  {
   "cell_type": "code",
   "execution_count": 12,
   "id": "4d1a4384",
   "metadata": {},
   "outputs": [
    {
     "name": "stdout",
     "output_type": "stream",
     "text": [
      "                                          desc_produto    valor     tipo_fone  \\\n",
      "0    Fone De Ouvido Headset Gamer Jbl Quantum 50, I...   119,00  desconhecido   \n",
      "1    Fone de Ouvido Gamer JBL Quantum 50N, Azul e V...   126,99  desconhecido   \n",
      "2    Fone de Ouvido Gamer Intra Auricular Trust GXT...   109,99  desconhecido   \n",
      "3    Fone De Ouvido Gamer Hyperx Cloud Earbuds Ii C...   302,50  desconhecido   \n",
      "4    Fone de Ouvido Gamer True Wireless Logitech G ...   799,99     bluetooth   \n",
      "..                                                 ...      ...           ...   \n",
      "107  Fones De Ouvido Gamer, Bluetooth, Sem Fio, Ios...    77,66       sem fio   \n",
      "108       Fone De Ouvido Gamer Com Fio Lehmox Ley-2264   156,66       com fio   \n",
      "109  Headfone Fone Igoodlo Gamer X8 Com LED Celular...   129,00  desconhecido   \n",
      "110  Fone De Ouvido C/ Microfone Gamer Com Fio P3 3...    99,90       com fio   \n",
      "111  Fone De Ouvido C/ Microfone Headset Gamer Com ...    94,91       com fio   \n",
      "\n",
      "            marca  \n",
      "0             jbl  \n",
      "1             jbl  \n",
      "2           intra  \n",
      "3          hyperx  \n",
      "4        logitech  \n",
      "..            ...  \n",
      "107  desconhecido  \n",
      "108  desconhecido  \n",
      "109  desconhecido  \n",
      "110  desconhecido  \n",
      "111  desconhecido  \n",
      "\n",
      "[112 rows x 4 columns]\n"
     ]
    }
   ],
   "source": [
    "# Remove o \"R$\"\n",
    "df['valor'] = df['valor'].str.replace('R$', '', regex=False)\n",
    "print(df)"
   ]
  },
  {
   "cell_type": "code",
   "execution_count": 13,
   "id": "d67956d8",
   "metadata": {},
   "outputs": [
    {
     "name": "stdout",
     "output_type": "stream",
     "text": [
      "                                          desc_produto    valor     tipo_fone  \\\n",
      "0    Fone De Ouvido Headset Gamer Jbl Quantum 50, I...   119,00  desconhecido   \n",
      "1    Fone de Ouvido Gamer JBL Quantum 50N, Azul e V...   126,99  desconhecido   \n",
      "2    Fone de Ouvido Gamer Intra Auricular Trust GXT...   109,99  desconhecido   \n",
      "3    Fone De Ouvido Gamer Hyperx Cloud Earbuds Ii C...   302,50  desconhecido   \n",
      "4    Fone de Ouvido Gamer True Wireless Logitech G ...   799,99     bluetooth   \n",
      "..                                                 ...      ...           ...   \n",
      "107  Fones De Ouvido Gamer, Bluetooth, Sem Fio, Ios...    77,66       sem fio   \n",
      "108       Fone De Ouvido Gamer Com Fio Lehmox Ley-2264   156,66       com fio   \n",
      "109  Headfone Fone Igoodlo Gamer X8 Com LED Celular...   129,00  desconhecido   \n",
      "110  Fone De Ouvido C/ Microfone Gamer Com Fio P3 3...    99,90       com fio   \n",
      "111  Fone De Ouvido C/ Microfone Headset Gamer Com ...    94,91       com fio   \n",
      "\n",
      "            marca  \n",
      "0             jbl  \n",
      "1             jbl  \n",
      "2           intra  \n",
      "3          hyperx  \n",
      "4        logitech  \n",
      "..            ...  \n",
      "107  desconhecido  \n",
      "108  desconhecido  \n",
      "109  desconhecido  \n",
      "110  desconhecido  \n",
      "111  desconhecido  \n",
      "\n",
      "[112 rows x 4 columns]\n"
     ]
    }
   ],
   "source": [
    "# Remove o \".\"\n",
    "df['valor'] = df['valor'].str.replace('.', '', regex=False)\n",
    "print(df)"
   ]
  },
  {
   "cell_type": "code",
   "execution_count": 14,
   "id": "22379db8",
   "metadata": {},
   "outputs": [
    {
     "name": "stdout",
     "output_type": "stream",
     "text": [
      "                                          desc_produto    valor     tipo_fone  \\\n",
      "0    Fone De Ouvido Headset Gamer Jbl Quantum 50, I...   119.00  desconhecido   \n",
      "1    Fone de Ouvido Gamer JBL Quantum 50N, Azul e V...   126.99  desconhecido   \n",
      "2    Fone de Ouvido Gamer Intra Auricular Trust GXT...   109.99  desconhecido   \n",
      "3    Fone De Ouvido Gamer Hyperx Cloud Earbuds Ii C...   302.50  desconhecido   \n",
      "4    Fone de Ouvido Gamer True Wireless Logitech G ...   799.99     bluetooth   \n",
      "..                                                 ...      ...           ...   \n",
      "107  Fones De Ouvido Gamer, Bluetooth, Sem Fio, Ios...    77.66       sem fio   \n",
      "108       Fone De Ouvido Gamer Com Fio Lehmox Ley-2264   156.66       com fio   \n",
      "109  Headfone Fone Igoodlo Gamer X8 Com LED Celular...   129.00  desconhecido   \n",
      "110  Fone De Ouvido C/ Microfone Gamer Com Fio P3 3...    99.90       com fio   \n",
      "111  Fone De Ouvido C/ Microfone Headset Gamer Com ...    94.91       com fio   \n",
      "\n",
      "            marca  \n",
      "0             jbl  \n",
      "1             jbl  \n",
      "2           intra  \n",
      "3          hyperx  \n",
      "4        logitech  \n",
      "..            ...  \n",
      "107  desconhecido  \n",
      "108  desconhecido  \n",
      "109  desconhecido  \n",
      "110  desconhecido  \n",
      "111  desconhecido  \n",
      "\n",
      "[112 rows x 4 columns]\n"
     ]
    }
   ],
   "source": [
    "# Substitui a vírgula (',') pelo ponto ('.') nas casas decimais \n",
    "df['valor'] = df['valor'].str.replace(',', '.', regex=False)\n",
    "print(df)"
   ]
  },
  {
   "cell_type": "code",
   "execution_count": 15,
   "id": "05e1ec87",
   "metadata": {},
   "outputs": [
    {
     "name": "stdout",
     "output_type": "stream",
     "text": [
      "                                          desc_produto   valor     tipo_fone  \\\n",
      "0    Fone De Ouvido Headset Gamer Jbl Quantum 50, I...  119.00  desconhecido   \n",
      "1    Fone de Ouvido Gamer JBL Quantum 50N, Azul e V...  126.99  desconhecido   \n",
      "2    Fone de Ouvido Gamer Intra Auricular Trust GXT...  109.99  desconhecido   \n",
      "3    Fone De Ouvido Gamer Hyperx Cloud Earbuds Ii C...  302.50  desconhecido   \n",
      "4    Fone de Ouvido Gamer True Wireless Logitech G ...  799.99     bluetooth   \n",
      "..                                                 ...     ...           ...   \n",
      "107  Fones De Ouvido Gamer, Bluetooth, Sem Fio, Ios...   77.66       sem fio   \n",
      "108       Fone De Ouvido Gamer Com Fio Lehmox Ley-2264  156.66       com fio   \n",
      "109  Headfone Fone Igoodlo Gamer X8 Com LED Celular...  129.00  desconhecido   \n",
      "110  Fone De Ouvido C/ Microfone Gamer Com Fio P3 3...   99.90       com fio   \n",
      "111  Fone De Ouvido C/ Microfone Headset Gamer Com ...   94.91       com fio   \n",
      "\n",
      "            marca  \n",
      "0             jbl  \n",
      "1             jbl  \n",
      "2           intra  \n",
      "3          hyperx  \n",
      "4        logitech  \n",
      "..            ...  \n",
      "107  desconhecido  \n",
      "108  desconhecido  \n",
      "109  desconhecido  \n",
      "110  desconhecido  \n",
      "111  desconhecido  \n",
      "\n",
      "[112 rows x 4 columns]\n"
     ]
    }
   ],
   "source": [
    "# Verifica se há espaços entre os caracteres e transforma o tipo em float\n",
    "df['valor'] = df['valor'].str.strip().astype(float)\n",
    "print(df)"
   ]
  },
  {
   "cell_type": "code",
   "execution_count": 16,
   "id": "e3c57cd6",
   "metadata": {},
   "outputs": [],
   "source": [
    "#Gera o excell com os dados tratados\n",
    "df.to_excel('dados_tratados_fones.xlsx', index=False)"
   ]
  }
 ],
 "metadata": {
  "kernelspec": {
   "display_name": "base",
   "language": "python",
   "name": "python3"
  },
  "language_info": {
   "codemirror_mode": {
    "name": "ipython",
    "version": 3
   },
   "file_extension": ".py",
   "mimetype": "text/x-python",
   "name": "python",
   "nbconvert_exporter": "python",
   "pygments_lexer": "ipython3",
   "version": "3.12.4"
  }
 },
 "nbformat": 4,
 "nbformat_minor": 5
}
