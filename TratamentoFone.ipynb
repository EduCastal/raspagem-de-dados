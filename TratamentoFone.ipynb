{
 "cells": [
  {
   "cell_type": "code",
   "execution_count": null,
   "id": "962a757f",
   "metadata": {},
   "outputs": [],
   "source": [
    "import pandas as pd\n",
    "\n",
    "df = pd.read_excel('fones.xlsx')\n",
    "print(df)"
   ]
  },
  {
   "cell_type": "code",
   "execution_count": null,
   "id": "3f65e533",
   "metadata": {},
   "outputs": [],
   "source": [
    "# Criar uma coluna no df considerando se o produto é com ou sem fio (bluetooh)\n",
    "tipo = ['com fio', 'sem fio', 'bluetooth']\n",
    "\n",
    "def extrair_cor(texto):\n",
    "    texto = texto.lower()\n",
    "    for cor in tipo:\n",
    "        if cor in texto:\n",
    "            return cor\n",
    "    return \"desconhecido\"\n",
    "\n",
    "df['tipo_fone'] = df['desc_produto'].apply(extrair_cor)\n",
    "\n",
    "df[['desc_produto', 'tipo_fone']].head(20)\n"
   ]
  },
  {
   "cell_type": "code",
   "execution_count": null,
   "id": "e3c57cd6",
   "metadata": {},
   "outputs": [],
   "source": [
    "#Gera o excell com os dados tratados\n",
    "df.to_excel('dados_tratados_fones.xlsx', index=False)"
   ]
  }
 ],
 "metadata": {
  "kernelspec": {
   "display_name": "base",
   "language": "python",
   "name": "python3"
  },
  "language_info": {
   "codemirror_mode": {
    "name": "ipython",
    "version": 3
   },
   "file_extension": ".py",
   "mimetype": "text/x-python",
   "name": "python",
   "nbconvert_exporter": "python",
   "pygments_lexer": "ipython3",
   "version": "3.12.4"
  }
 },
 "nbformat": 4,
 "nbformat_minor": 5
}
